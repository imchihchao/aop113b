{
  "nbformat": 4,
  "nbformat_minor": 0,
  "metadata": {
    "colab": {
      "provenance": [],
      "authorship_tag": "ABX9TyNSnzv7mosUG2GCMKCP20Y0",
      "include_colab_link": true
    },
    "kernelspec": {
      "name": "python3",
      "display_name": "Python 3"
    },
    "language_info": {
      "name": "python"
    }
  },
  "cells": [
    {
      "cell_type": "markdown",
      "metadata": {
        "id": "view-in-github",
        "colab_type": "text"
      },
      "source": [
        "<a href=\"https://colab.research.google.com/github/imchihchao/aop113b/blob/main/ws_gradio_readingchat.ipynb\" target=\"_parent\"><img src=\"https://colab.research.google.com/assets/colab-badge.svg\" alt=\"Open In Colab\"/></a>"
      ]
    },
    {
      "cell_type": "code",
      "source": [
        "pip install -q gradio"
      ],
      "metadata": {
        "colab": {
          "base_uri": "https://localhost:8080/"
        },
        "id": "be2jmwMeRWfK",
        "outputId": "fd0a34b5-305a-4cf0-c8e7-38d3b622aead"
      },
      "execution_count": 2,
      "outputs": [
        {
          "output_type": "stream",
          "name": "stdout",
          "text": [
            "\u001b[2K   \u001b[90m━━━━━━━━━━━━━━━━━━━━━━━━━━━━━━━━━━━━━━━━\u001b[0m \u001b[32m54.2/54.2 MB\u001b[0m \u001b[31m15.8 MB/s\u001b[0m eta \u001b[36m0:00:00\u001b[0m\n",
            "\u001b[2K   \u001b[90m━━━━━━━━━━━━━━━━━━━━━━━━━━━━━━━━━━━━━━━━\u001b[0m \u001b[32m323.1/323.1 kB\u001b[0m \u001b[31m8.5 MB/s\u001b[0m eta \u001b[36m0:00:00\u001b[0m\n",
            "\u001b[2K   \u001b[90m━━━━━━━━━━━━━━━━━━━━━━━━━━━━━━━━━━━━━━━━\u001b[0m \u001b[32m95.2/95.2 kB\u001b[0m \u001b[31m5.5 MB/s\u001b[0m eta \u001b[36m0:00:00\u001b[0m\n",
            "\u001b[2K   \u001b[90m━━━━━━━━━━━━━━━━━━━━━━━━━━━━━━━━━━━━━━━━\u001b[0m \u001b[32m11.5/11.5 MB\u001b[0m \u001b[31m65.9 MB/s\u001b[0m eta \u001b[36m0:00:00\u001b[0m\n",
            "\u001b[2K   \u001b[90m━━━━━━━━━━━━━━━━━━━━━━━━━━━━━━━━━━━━━━━━\u001b[0m \u001b[32m72.0/72.0 kB\u001b[0m \u001b[31m2.5 MB/s\u001b[0m eta \u001b[36m0:00:00\u001b[0m\n",
            "\u001b[2K   \u001b[90m━━━━━━━━━━━━━━━━━━━━━━━━━━━━━━━━━━━━━━━━\u001b[0m \u001b[32m62.5/62.5 kB\u001b[0m \u001b[31m2.3 MB/s\u001b[0m eta \u001b[36m0:00:00\u001b[0m\n",
            "\u001b[?25h"
          ]
        }
      ]
    },
    {
      "cell_type": "code",
      "execution_count": 4,
      "metadata": {
        "colab": {
          "base_uri": "https://localhost:8080/",
          "height": 626
        },
        "id": "QkYxPuMAQyQ6",
        "outputId": "c9e8a168-bcc0-4b66-8b9e-c5299bccaa4a"
      },
      "outputs": [
        {
          "output_type": "stream",
          "name": "stdout",
          "text": [
            "It looks like you are running Gradio on a hosted a Jupyter notebook. For the Gradio app to work, sharing must be enabled. Automatically setting `share=True` (you can turn this off by setting `share=False` in `launch()` explicitly).\n",
            "\n",
            "Colab notebook detected. To show errors in colab notebook, set debug=True in launch()\n",
            "* Running on public URL: https://daef8fa65c7d386ef9.gradio.live\n",
            "\n",
            "This share link expires in 1 week. For free permanent hosting and GPU upgrades, run `gradio deploy` from the terminal in the working directory to deploy to Hugging Face Spaces (https://huggingface.co/spaces)\n"
          ]
        },
        {
          "output_type": "display_data",
          "data": {
            "text/plain": [
              "<IPython.core.display.HTML object>"
            ],
            "text/html": [
              "<div><iframe src=\"https://daef8fa65c7d386ef9.gradio.live\" width=\"100%\" height=\"500\" allow=\"autoplay; camera; microphone; clipboard-read; clipboard-write;\" frameborder=\"0\" allowfullscreen></iframe></div>"
            ]
          },
          "metadata": {}
        },
        {
          "output_type": "execute_result",
          "data": {
            "text/plain": []
          },
          "metadata": {},
          "execution_count": 4
        }
      ],
      "source": [
        "import gradio as gr\n",
        "from google import genai\n",
        "from google.colab import userdata\n",
        "\n",
        "api_key = userdata.get('GOOGLE_API_KEY')\n",
        "client = genai.Client(api_key=api_key)\n",
        "\n",
        "text = '''\n",
        "### 鳥兒為什麼能飛上天空？\n",
        "你有沒有想過，鳥兒為什麼能自由自在地在天空中飛翔呢？其實，科學家們也對這個問題充滿了好奇，並且花了很多時間進行研究。要了解鳥類如何飛行，我們必須先認識四種重要的力量：升力、推力、空氣阻力和重力。\n",
        "首先，我們來了解升力。鳥類的翅膀有特別的設計，上面彎曲、下面則比較平坦。當空氣流過翅膀時，上方的空氣流動得比較快，下方的空氣則比較慢。根據科學原理，上方空氣流速快，壓力小，下方空氣流速慢，壓力大，這樣一來就能產生向上的力量，讓鳥兒升上天空。鳥類也能調整翅膀的角度（稱為攻角），改變升力的大小，維持平穩的飛行。\n",
        "再來說說推力，這是鳥類往前飛的動力。鳥兒飛行時會拍動翅膀，特別是在向下揮動的時候，除了產生升力，還會向後推動空氣，這樣就產生了讓鳥向前飛的力量。不同的鳥類有不同的推進方法，比如老鷹常常利用滑翔減少拍翅次數，而燕子則需要快速不停地拍翅，以維持靈活的飛行。\n",
        "第三種力量是空氣阻力，這是鳥類飛行時遇到的阻礙。當鳥兒在空中飛行時，牠們的身體和空氣接觸會產生摩擦力，使得飛行速度減慢。為了降低這個阻力，鳥兒的身體通常都是流線型的。比如游隼在高速飛行時，甚至會將翅膀緊緊收起，讓整個身體更細長，以最大程度減少空氣阻力。此外，翅膀在拍動時也會產生小渦流，增加阻力，因此鳥類需要有技巧地調整翅膀來保持穩定。\n",
        "第四種力量就是重力。只要是在地球上的物體，都會被地球吸引，鳥兒當然也不例外。為了克服重力，鳥兒必須產生足夠的升力。鳥類在演化中發展出了特殊的身體結構，例如牠們的骨頭內部充滿了許多空洞，既堅固又輕盈，這樣就能更有效地對抗重力。\n",
        "但鳥兒一開始是怎麼學會飛行的呢？目前科學家提出了兩個主要的理論。一個叫做「地面起飛假說」，認為鳥類的祖先是生活在地面上奔跑的恐龍，牠們在追逐獵物時，跳躍的動作逐漸進化成了飛行能力；另一個理論是「樹棲假說」，認為鳥的祖先是生活在樹上的恐龍，牠們從樹上跳下時會滑翔，久而久之便進化成了能夠拍動翅膀主動飛行的鳥類。\n",
        "這兩種假說到現在仍然沒有定論，科學家們還在不斷地研究和爭論。但是透過這些簡單的物理原理和模型，比如物理學家常用的「球形雞」這樣的趣味例子，我們能逐漸理解，這些看似神奇的鳥兒，究竟如何優雅地翱翔在天空之中。\n",
        "本文摘要自 博學多文 - [鳥革翬飛：從物理學家的球形雞看鳥類飛行](https://epub.nmns.edu.tw/m202503-1/)\n",
        "'''\n",
        "\n",
        "prompt = f'''\n",
        "請你扮演一位國小老師。你的任務是引導學生理解文章內容。目前是進行一對一的指導。不需給老師的指導語。\n",
        "你的教學風格：\n",
        "友善、耐心、鼓勵： 使用簡單易懂的詞語，語氣溫和，多加鼓勵學生。\n",
        "提問引導： 透過一系列的提問，幫助學生思考文章的重點、細節和含義。\n",
        "循序漸進： 從簡單的問題開始，逐步深入，直到學生能完全理解文章內容。\n",
        "確保理解： 在每個問題之後，等待學生的回答，並根據回答判斷學生是否理解。如果學生回答不正確或不完整，請耐心引導他們思考。如果學生未針對問題回答也引導他們聚焦於問題。\n",
        "互動式對話： 不只是提問，也要像聊天一樣，讓學生感到輕鬆自在，願意表達自己的想法。\n",
        "總結確認： 在對話結束前，引導學生總結文章內容，確認他們已經完全理解。\n",
        "你的提問策略：\n",
        "初始提問： 從文章的主要人物、事件、地點等基本資訊開始。\n",
        "細節提問： 針對文章中的關鍵情節、原因、結果等進行提問。\n",
        "推論與感受提問： 鼓勵學生思考文章背後的意義、人物的感受、作者的意圖等。\n",
        "個人連結提問： 讓學生將文章內容與自己的經驗或生活連結，加深理解。\n",
        "對話結束條件：\n",
        "你判斷學生已經完全理解文章的所有重點和含義。\n",
        "學生能夠用自己的話清楚地講述文章內容。\n",
        "文章內容如下：\n",
        "{text}\n",
        "'''\n",
        "\n",
        "# 初始化 chat 並回傳開場訊息\n",
        "def init_chat():\n",
        "    chat = client.chats.create(model=\"gemini-2.0-flash\")\n",
        "    init_response = chat.send_message(prompt)\n",
        "    return chat, [{\"role\": \"assistant\", \"content\": init_response.text}]\n",
        "\n",
        "# 回應訊息的邏輯\n",
        "def respond(message, history, chat):\n",
        "    response = chat.send_message(message)\n",
        "    history.append({\"role\": \"user\", \"content\": message})\n",
        "    history.append({\"role\": \"assistant\", \"content\": response.text})\n",
        "    return history, chat, \"\"\n",
        "\n",
        "with gr.Blocks() as app:\n",
        "    state = gr.State()  # 儲存 chat 對象\n",
        "    with gr.Row():\n",
        "        with gr.Column(scale=1):  # 左側：文章\n",
        "            gr.Markdown(\"## 文章內容\")\n",
        "            gr.Markdown(text)\n",
        "        with gr.Column(scale=2):  # 右側：對話介面\n",
        "            chatbot = gr.Chatbot(label=\"科學閱讀機器人\",type=\"messages\")\n",
        "            msg = gr.Textbox(label=\"輸入你的回覆\")\n",
        "\n",
        "    def start():\n",
        "        chat, init_messages = init_chat()\n",
        "        return chat, init_messages\n",
        "\n",
        "    # 初始化\n",
        "    app.load(start, outputs=[state, chatbot])\n",
        "\n",
        "    # 傳送訊息\n",
        "    msg.submit(fn=respond, inputs=[msg, chatbot, state], outputs=[chatbot, state, msg])\n",
        "\n",
        "app.launch()"
      ]
    }
  ]
}