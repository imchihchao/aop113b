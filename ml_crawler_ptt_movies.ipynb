{
  "nbformat": 4,
  "nbformat_minor": 0,
  "metadata": {
    "colab": {
      "provenance": [],
      "authorship_tag": "ABX9TyMdsvMtrUn97f6Oxfv3Sh/j",
      "include_colab_link": true
    },
    "kernelspec": {
      "name": "python3",
      "display_name": "Python 3"
    },
    "language_info": {
      "name": "python"
    }
  },
  "cells": [
    {
      "cell_type": "markdown",
      "metadata": {
        "id": "view-in-github",
        "colab_type": "text"
      },
      "source": [
        "<a href=\"https://colab.research.google.com/github/imchihchao/aop113b/blob/main/ml_crawler_ptt_movies.ipynb\" target=\"_parent\"><img src=\"https://colab.research.google.com/assets/colab-badge.svg\" alt=\"Open In Colab\"/></a>"
      ]
    },
    {
      "cell_type": "markdown",
      "source": [
        "## 爬取 PTT 電影版 5 頁的文章內容"
      ],
      "metadata": {
        "id": "a6DldGYlbxDa"
      }
    },
    {
      "cell_type": "code",
      "execution_count": 1,
      "metadata": {
        "id": "TWUOwmClakjP"
      },
      "outputs": [],
      "source": [
        "import requests\n",
        "from bs4 import BeautifulSoup\n",
        "import csv\n",
        "\n",
        "def get_article(url):\n",
        "    response = requests.get(url)\n",
        "    soup = BeautifulSoup(response.text, 'lxml')\n",
        "    cntt = soup.find('div', id='main-content')\n",
        "    for tag in cntt.find_all(['span', 'div'], class_=['article-metaline','article-metaline-right','push','f2']):\n",
        "        tag.decompose()\n",
        "    cleaned_content = cntt.get_text(strip=True)\n",
        "    return cleaned_content\n",
        "\n",
        "def get_articles(url):\n",
        "    response = requests.get(url)\n",
        "    soup = BeautifulSoup(response.text, 'lxml')\n",
        "    for atcl in soup.find_all('div', class_='r-ent'):\n",
        "        if atcl.find('div', class_='title').a:\n",
        "            ttle = atcl.find('div', class_='title').a.text\n",
        "            href = 'https://www.ptt.cc' + atcl.find('div', class_='title').a.get('href')\n",
        "            date = atcl.find('div', class_='date').text\n",
        "            cntt = get_article(href)\n",
        "            articles.append([date, href, ttle, f'{ttle}\\n{cntt}'])\n",
        "    url = 'https://www.ptt.cc' + soup.find_all('a', class_='btn wide')[1].get('href')\n",
        "    return url\n",
        "\n",
        "articles = [['date','href','title','content']]\n",
        "\n",
        "url = 'https://www.ptt.cc/bbs/Movie/index.html'\n",
        "for i in range(5):\n",
        "    url = get_articles(url)\n",
        "\n",
        "with open('ptt_movies.csv', 'w', newline='') as f:\n",
        "    writer = csv.writer(f)\n",
        "    writer.writerows(articles)"
      ]
    }
  ]
}